{
 "cells": [
  {
   "cell_type": "markdown",
   "metadata": {},
   "source": [
    "### 导入库"
   ]
  },
  {
   "cell_type": "code",
   "execution_count": 1,
   "metadata": {},
   "outputs": [],
   "source": [
    "import numpy as np\n",
    "import pandas as pd\n",
    "import matplotlib.pyplot as plt\n",
    "import seaborn as sns\n",
    "import warnings\n",
    "warnings.filterwarnings(\"ignore\")\n",
    "%matplotlib inline"
   ]
  },
  {
   "cell_type": "markdown",
   "metadata": {},
   "source": [
    "### 读入数据\n",
    "#### 增加标题列\n",
    "\n",
    "#### dfu为用户表数据、dfi为项目表数据"
   ]
  },
  {
   "cell_type": "code",
   "execution_count": 2,
   "metadata": {},
   "outputs": [],
   "source": [
    "##数据表A\n",
    "df1= pd.read_table('tianchi_fresh_comp_train_user_online_partA.txt')\n",
    "df1.loc[-1] = df1.columns.tolist()\n",
    "df1.index = df1.index + 1\n",
    "df1.sort_index(inplace=True)\n",
    "df1.columns = ['user_id', 'item_id', 'behavior_type', 'user_geohash', 'item_category', 'time']\n",
    "##数据表B\n",
    "df2= pd.read_table('tianchi_fresh_comp_train_user_online_partB.txt')\n",
    "df2.loc[-1] = df2.columns.tolist()\n",
    "df2.index = df2.index + 1\n",
    "df2.sort_index(inplace=True)\n",
    "df2.columns = ['user_id', 'item_id', 'behavior_type', 'user_geohash', 'item_category', 'time']\n",
    "dfu = pd.concat([df1, df2])\n",
    "\n",
    "##项目表\n",
    "dfi= pd.read_table('tianchi_fresh_comp_train_item_online.txt')\n",
    "dfi.loc[-1] = dfi.columns.tolist()\n",
    "dfi.index = dfi.index + 1\n",
    "dfi.sort_index(inplace=True)\n",
    "dfi.columns = [ 'item_id', 'item_geohash', 'item_category']"
   ]
  },
  {
   "cell_type": "code",
   "execution_count": null,
   "metadata": {},
   "outputs": [],
   "source": []
  },
  {
   "cell_type": "markdown",
   "metadata": {},
   "source": [
    "### 探查数据样式"
   ]
  },
  {
   "cell_type": "code",
   "execution_count": 26,
   "metadata": {},
   "outputs": [],
   "source": [
    "a=dfu.head(100000)"
   ]
  },
  {
   "cell_type": "code",
   "execution_count": 33,
   "metadata": {},
   "outputs": [
    {
     "data": {
      "text/html": [
       "<div>\n",
       "<style scoped>\n",
       "    .dataframe tbody tr th:only-of-type {\n",
       "        vertical-align: middle;\n",
       "    }\n",
       "\n",
       "    .dataframe tbody tr th {\n",
       "        vertical-align: top;\n",
       "    }\n",
       "\n",
       "    .dataframe thead th {\n",
       "        text-align: right;\n",
       "    }\n",
       "</style>\n",
       "<table border=\"1\" class=\"dataframe\">\n",
       "  <thead>\n",
       "    <tr style=\"text-align: right;\">\n",
       "      <th></th>\n",
       "      <th>item_id</th>\n",
       "      <th>item_geohash</th>\n",
       "      <th>item_category</th>\n",
       "    </tr>\n",
       "  </thead>\n",
       "  <tbody>\n",
       "    <tr>\n",
       "      <th>0</th>\n",
       "      <td>100014006</td>\n",
       "      <td>Unnamed: 1</td>\n",
       "      <td>3064</td>\n",
       "    </tr>\n",
       "    <tr>\n",
       "      <th>1</th>\n",
       "      <td>100030948</td>\n",
       "      <td>NaN</td>\n",
       "      <td>10544</td>\n",
       "    </tr>\n",
       "    <tr>\n",
       "      <th>2</th>\n",
       "      <td>100037683</td>\n",
       "      <td>NaN</td>\n",
       "      <td>12067</td>\n",
       "    </tr>\n",
       "    <tr>\n",
       "      <th>3</th>\n",
       "      <td>100039010</td>\n",
       "      <td>NaN</td>\n",
       "      <td>10501</td>\n",
       "    </tr>\n",
       "    <tr>\n",
       "      <th>4</th>\n",
       "      <td>100040963</td>\n",
       "      <td>NaN</td>\n",
       "      <td>3960</td>\n",
       "    </tr>\n",
       "    <tr>\n",
       "      <th>5</th>\n",
       "      <td>100051766</td>\n",
       "      <td>NaN</td>\n",
       "      <td>2284</td>\n",
       "    </tr>\n",
       "    <tr>\n",
       "      <th>6</th>\n",
       "      <td>100059164</td>\n",
       "      <td>NaN</td>\n",
       "      <td>10120</td>\n",
       "    </tr>\n",
       "    <tr>\n",
       "      <th>7</th>\n",
       "      <td>100061067</td>\n",
       "      <td>NaN</td>\n",
       "      <td>5801</td>\n",
       "    </tr>\n",
       "    <tr>\n",
       "      <th>8</th>\n",
       "      <td>100065317</td>\n",
       "      <td>NaN</td>\n",
       "      <td>10120</td>\n",
       "    </tr>\n",
       "    <tr>\n",
       "      <th>9</th>\n",
       "      <td>100072758</td>\n",
       "      <td>NaN</td>\n",
       "      <td>8698</td>\n",
       "    </tr>\n",
       "  </tbody>\n",
       "</table>\n",
       "</div>"
      ],
      "text/plain": [
       "     item_id item_geohash item_category\n",
       "0  100014006   Unnamed: 1          3064\n",
       "1  100030948          NaN         10544\n",
       "2  100037683          NaN         12067\n",
       "3  100039010          NaN         10501\n",
       "4  100040963          NaN          3960\n",
       "5  100051766          NaN          2284\n",
       "6  100059164          NaN         10120\n",
       "7  100061067          NaN          5801\n",
       "8  100065317          NaN         10120\n",
       "9  100072758          NaN          8698"
      ]
     },
     "execution_count": 33,
     "metadata": {},
     "output_type": "execute_result"
    }
   ],
   "source": [
    "dfi.head(10)"
   ]
  },
  {
   "cell_type": "code",
   "execution_count": 34,
   "metadata": {},
   "outputs": [
    {
     "data": {
      "text/plain": [
       "(9509274, 6)"
      ]
     },
     "execution_count": 34,
     "metadata": {},
     "output_type": "execute_result"
    }
   ],
   "source": [
    "dfu.shape"
   ]
  },
  {
   "cell_type": "code",
   "execution_count": 35,
   "metadata": {},
   "outputs": [
    {
     "data": {
      "text/plain": [
       "(6781009, 3)"
      ]
     },
     "execution_count": 35,
     "metadata": {},
     "output_type": "execute_result"
    }
   ],
   "source": [
    "dfi.shape"
   ]
  },
  {
   "cell_type": "markdown",
   "metadata": {},
   "source": [
    "# 第一步、 查看缺失值，由于缺失值集中且比例太大，先不考虑地理位置信息了"
   ]
  },
  {
   "cell_type": "code",
   "execution_count": 36,
   "metadata": {},
   "outputs": [
    {
     "data": {
      "text/plain": [
       "user_geohash     68.13%\n",
       "user_id           0.00%\n",
       "item_id           0.00%\n",
       "behavior_type     0.00%\n",
       "item_category     0.00%\n",
       "time              0.00%\n",
       "dtype: object"
      ]
     },
     "execution_count": 36,
     "metadata": {},
     "output_type": "execute_result"
    }
   ],
   "source": [
    "((dfu.isnull().sum())/dfu.shape[0]).sort_values(ascending=False).map(lambda x:\"{:.2%}\".format(x))"
   ]
  },
  {
   "cell_type": "code",
   "execution_count": 37,
   "metadata": {},
   "outputs": [
    {
     "data": {
      "text/plain": [
       "item_geohash     87.86%\n",
       "item_id           0.00%\n",
       "item_category     0.00%\n",
       "dtype: object"
      ]
     },
     "execution_count": 37,
     "metadata": {},
     "output_type": "execute_result"
    }
   ],
   "source": [
    "((dfi.isnull().sum())/dfi.shape[0]).sort_values(ascending=False).map(lambda x:\"{:.2%}\".format(x))"
   ]
  },
  {
   "cell_type": "markdown",
   "metadata": {},
   "source": [
    "### 描述性统计"
   ]
  },
  {
   "cell_type": "code",
   "execution_count": 38,
   "metadata": {},
   "outputs": [
    {
     "name": "stdout",
     "output_type": "stream",
     "text": [
      "         user_id    item_id  behavior_type user_geohash  item_category  \\\n",
      "count    9509274    9509274        9509274      3030656        9509274   \n",
      "unique      7944    2388834              5       464225           8674   \n",
      "top     80499452  112921337              1      99b97l2           1863   \n",
      "freq      171828       1137        8965161          721         321433   \n",
      "\n",
      "                 time  \n",
      "count         9509274  \n",
      "unique            746  \n",
      "top     2014-12-11 22  \n",
      "freq            41704  \n",
      "          item_id item_geohash  item_category\n",
      "count     6781009       823271        6781009\n",
      "unique    6052459       141856           1439\n",
      "top     335047848      96kajlv           6648\n",
      "freq        14717          558         225022\n"
     ]
    }
   ],
   "source": [
    "print(dfu.describe())\n",
    "print(dfi.describe())"
   ]
  },
  {
   "cell_type": "markdown",
   "metadata": {},
   "source": [
    "# 第二步、查看用户的行为类型， 包括浏览、收藏、加购物车、购买 占比，这里正负样本比例严重失调，可以考虑减少一部分负样本"
   ]
  },
  {
   "cell_type": "code",
   "execution_count": 39,
   "metadata": {},
   "outputs": [
    {
     "name": "stdout",
     "output_type": "stream",
     "text": [
      "0.9427808053485471\n",
      "0.019504012609164484\n",
      "0.028030951679381622\n",
      "0.009684020041908561\n"
     ]
    }
   ],
   "source": [
    "print(len(dfu[dfu[\"behavior_type\"] == 1])/len(dfu)) # 浏览\n",
    "print(len(dfu[dfu[\"behavior_type\"] == 2])/len(dfu)) # 收藏\n",
    "print(len(dfu[dfu[\"behavior_type\"] == 3])/len(dfu)) # 加购物车\n",
    "print(len(dfu[dfu[\"behavior_type\"] == 4])/len(dfu)) # 购买"
   ]
  },
  {
   "cell_type": "markdown",
   "metadata": {},
   "source": [
    "### 正样本太少，可以从点击中抽取部分删除"
   ]
  },
  {
   "cell_type": "markdown",
   "metadata": {},
   "source": [
    "### 转换时间类型"
   ]
  },
  {
   "cell_type": "code",
   "execution_count": 58,
   "metadata": {},
   "outputs": [
    {
     "name": "stdout",
     "output_type": "stream",
     "text": [
      "0          2014-11-24 19\n",
      "1          2014-11-25 20\n",
      "2          2014-12-06 23\n",
      "3          2014-12-17 20\n",
      "4          2014-12-17 17\n",
      "               ...      \n",
      "4482231    2014-11-30 22\n",
      "4482232    2014-11-30 13\n",
      "4482233    2014-11-29 14\n",
      "4482234    2014-11-29 13\n",
      "4482235                2\n",
      "Name: time, Length: 4482236, dtype: object\n"
     ]
    }
   ],
   "source": [
    "print(df1[\"time\"])"
   ]
  },
  {
   "cell_type": "code",
   "execution_count": 64,
   "metadata": {},
   "outputs": [],
   "source": [
    "df1['time'] = df1['time'].map(str) "
   ]
  },
  {
   "cell_type": "code",
   "execution_count": 73,
   "metadata": {},
   "outputs": [],
   "source": [
    "dfu['time'] = pd.to_datetime(dfu['time'], format='%Y%m%d %H',errors = 'coerce')\n"
   ]
  },
  {
   "cell_type": "code",
   "execution_count": 74,
   "metadata": {},
   "outputs": [
    {
     "name": "stdout",
     "output_type": "stream",
     "text": [
      "0         2014-11-24 19:00:00\n",
      "1         2014-11-25 20:00:00\n",
      "2         2014-12-06 23:00:00\n",
      "3         2014-12-17 20:00:00\n",
      "4         2014-12-17 17:00:00\n",
      "                  ...        \n",
      "5027033   2014-12-12 00:00:00\n",
      "5027034   2014-12-12 11:00:00\n",
      "5027035   2014-11-21 21:00:00\n",
      "5027036   2014-12-04 23:00:00\n",
      "5027037                   NaT\n",
      "Name: time, Length: 9509274, dtype: datetime64[ns]\n"
     ]
    }
   ],
   "source": [
    "print(dfu.time)"
   ]
  },
  {
   "cell_type": "code",
   "execution_count": 80,
   "metadata": {},
   "outputs": [
    {
     "name": "stdout",
     "output_type": "stream",
     "text": [
      "    user_id    item_id behavior_type user_geohash item_category  \\\n",
      "0  77404236  306224045             1   Unnamed: 3          9023   \n",
      "1  77404236  321344925             4          NaN          3424   \n",
      "2  77404236  393135256             1          NaN         11623   \n",
      "3  77404236  277463747             1          NaN           451   \n",
      "4  77404236   38563179             1          NaN          8432   \n",
      "\n",
      "                 time        date  weekday  hour  \n",
      "0 2014-11-24 19:00:00  2014-11-24      0.0  19.0  \n",
      "1 2014-11-25 20:00:00  2014-11-25      1.0  20.0  \n",
      "2 2014-12-06 23:00:00  2014-12-06      5.0  23.0  \n",
      "3 2014-12-17 20:00:00  2014-12-17      2.0  20.0  \n",
      "4 2014-12-17 17:00:00  2014-12-17      2.0  17.0  \n"
     ]
    }
   ],
   "source": [
    "dfu[\"date\"] = dfu[\"time\"].dt.date\n",
    "dfu[\"weekday\"] = dfu[\"time\"].dt.weekday\n",
    "dfu[\"hour\"] = dfu[\"time\"].dt.hour\n",
    "print(dfu.head())"
   ]
  },
  {
   "cell_type": "markdown",
   "metadata": {},
   "source": [
    "### 查看用户消费习惯"
   ]
  },
  {
   "cell_type": "code",
   "execution_count": 85,
   "metadata": {},
   "outputs": [],
   "source": [
    "# 商品每天的购买情况 in_itemlist表示是否特指待预测商品子集的商品\n",
    "#plt.rcParams['font.sans-serif'] = ['SimHei']  # 中文字体设置-黑体\n",
    "# plt.rcParams['axes.unicode_minus'] = False  # 解决保存图像是负号'-'显示为方块的问题\n",
    "#sns.set(font='SimHei')  # 解决Seaborn中文显示问题\n",
    "\n",
    "def erveryday_buy_counts(in_itemlist=False):\n",
    "    if in_itemlist == True:\n",
    "        condition = dfu[\"item_id\"].isin(item_list)\n",
    "    else:\n",
    "        condition = True\n",
    "    #f, (ax1, ax2,ax3,ax4) = plt.subplots(4, 1, figsize=(8, 8), sharex=True)\n",
    "    item_day_buy_count = dfu[(dfu.behavior_type == 4) & (condition) ][[\"user_id\", \"item_id\", \"date\"]].drop_duplicates()#&(condition)]\n",
    "    item_day_buy_count[\"buy_count\"] = 1\n",
    "    item_day_buy_count[\"date\"]=item_day_buy_count[\"date\"].apply(lambda x:str(x)[5:])\n",
    "    item_day_buy_count=item_day_buy_count[['buy_count','date']].groupby('date').count().sort_values('date')\n",
    "    \n",
    "    f, ax = plt.subplots(figsize=(20, 5))\n",
    "    fig=sns.barplot(x=item_day_buy_count.index,y=item_day_buy_count['buy_count'])\n",
    "    #fig.set_xticklabels(ax.get_xticklabels(), rotation=90)\n",
    "    #sns.barplotp('')"
   ]
  },
  {
   "cell_type": "markdown",
   "metadata": {},
   "source": [
    "# 第三步、商品全集每天的购买情况，建议删除12.12"
   ]
  },
  {
   "cell_type": "code",
   "execution_count": 86,
   "metadata": {},
   "outputs": [
    {
     "data": {
      "image/png": "[encoded data removed]",
      "text/plain": [
       "<Figure size 1440x360 with 1 Axes>"
      ]
     },
     "metadata": {
      "needs_background": "light"
     },
     "output_type": "display_data"
    }
   ],
   "source": [
    "erveryday_buy_counts(in_itemlist=False)"
   ]
  },
  {
   "cell_type": "code",
   "execution_count": 94,
   "metadata": {},
   "outputs": [
    {
     "data": {
      "text/plain": [
       "Text(0.5, 1.0, '购买')"
      ]
     },
     "execution_count": 94,
     "metadata": {},
     "output_type": "execute_result"
    },
    {
     "data": {
      "image/png": "[encoded data removed]",
      "text/plain": [
       "<Figure size 1080x936 with 4 Axes>"
      ]
     },
     "metadata": {},
     "output_type": "display_data"
    }
   ],
   "source": [
    "# 用户type操作的星期分布\n",
    "sns.set(font='SimHei')  # 解决Seaborn中文显示问题\n",
    "def weekday_buy_counts(type, in_itemlist=False):\n",
    "    if in_itemlist == True:\n",
    "        condition = dfu[\"item_id\"].isin(item_list)\n",
    "    else:\n",
    "        condition = True\n",
    "    weekday_buy_counts = dfu[(dfu[\"behavior_type\"] == type)&(condition)][[\"weekday\"]]\n",
    "    weekday_buy_counts[\"count\"] = 1\n",
    "    weekday_buy_counts[\"weekday\"] = weekday_buy_counts[\"weekday\"].apply(lambda x: x+1)\n",
    "    #print(weekday_buy_counts)\n",
    "    weekday_buy_counts = weekday_buy_counts.groupby(\"weekday\", as_index=False).count().sort_values(by=\"count\", ascending=False).reset_index(drop=True)\n",
    "    return weekday_buy_counts\n",
    "\n",
    "\n",
    "f, (ax1, ax2,ax3,ax4) = plt.subplots(4, 1, figsize=(15, 13), sharex=True)\n",
    "\n",
    "# 商品全集 浏览、加购物车、收藏 和买 的星期分布图\n",
    "data = weekday_buy_counts(1, False)\n",
    "#print(data.head(7))\n",
    "fig = sns.barplot(x=\"weekday\", y=\"count\", data=data,ax=ax1) \n",
    "ax1.set_title('浏览量')\n",
    "\n",
    "data = weekday_buy_counts(2, False)\n",
    "fig = sns.barplot(x=\"weekday\", y=\"count\", data=data,ax=ax2)\n",
    "ax2.set_title('加购物车')\n",
    "\n",
    "data = weekday_buy_counts(3, False)\n",
    "fig = sns.barplot(x=\"weekday\", y=\"count\", data=data,ax=ax3)\n",
    "ax3.set_title('收藏')\n",
    "data = weekday_buy_counts(4, False)\n",
    "fig = sns.barplot(x=\"weekday\", y=\"count\", data=data,ax=ax4)\n",
    "ax4.set_title('购买')\n",
    "\n",
    "\n",
    "\n",
    "#上图展示了用户的四种行为在一个星期内每天的分布，浏览、收藏和加入购物车的分布大致相同，而星期五购买量不其他的天数多。"
   ]
  },
  {
   "cell_type": "code",
   "execution_count": 102,
   "metadata": {},
   "outputs": [
    {
     "data": {
      "image/png": "[encoded data removed]",
      "text/plain": [
       "<Figure size 576x576 with 2 Axes>"
      ]
     },
     "metadata": {},
     "output_type": "display_data"
    }
   ],
   "source": [
    "# 用户type操作的时间段分布\n",
    "def hour_buy_counts(type, in_itemlist=False):\n",
    "    if in_itemlist == True:\n",
    "        condition = dfu[\"item_id\"].isin(item_list)\n",
    "    else:\n",
    "        condition = True\n",
    "    hour_buy_counts = dfu[(dfu[\"behavior_type\"] == type)&(condition)][[\"hour\"]]\n",
    "    hour_buy_counts[\"count\"] = 1\n",
    "    hour_buy_counts = hour_buy_counts.groupby(\"hour\", as_index=False).count().sort_values(by=\"count\", ascending=False).reset_index(drop=True)\n",
    "    return hour_buy_counts\n",
    "\n",
    "f, (ax1, ax2) = plt.subplots(2, 1, figsize=(8, 8), sharex=True)\n",
    "# 商品全集购买时间段分布图\n",
    "data = hour_buy_counts(4,False)\n",
    "fig = sns.barplot(x=\"hour\", y=\"count\", data=data,ax=ax1)"
   ]
  },
  {
   "cell_type": "markdown",
   "metadata": {},
   "source": [
    "# 第四步、以下步骤可以分离浏览量多而购买量少的顾客，并考虑是否将其筛选出去"
   ]
  },
  {
   "cell_type": "code",
   "execution_count": 107,
   "metadata": {},
   "outputs": [
    {
     "data": {
      "text/html": [
       "<div>\n",
       "<style scoped>\n",
       "    .dataframe tbody tr th:only-of-type {\n",
       "        vertical-align: middle;\n",
       "    }\n",
       "\n",
       "    .dataframe tbody tr th {\n",
       "        vertical-align: top;\n",
       "    }\n",
       "\n",
       "    .dataframe thead th {\n",
       "        text-align: right;\n",
       "    }\n",
       "</style>\n",
       "<table border=\"1\" class=\"dataframe\">\n",
       "  <thead>\n",
       "    <tr style=\"text-align: right;\">\n",
       "      <th></th>\n",
       "      <th>user_id</th>\n",
       "      <th>item_id</th>\n",
       "      <th>behavior_type</th>\n",
       "      <th>user_geohash</th>\n",
       "      <th>item_category</th>\n",
       "      <th>time</th>\n",
       "      <th>date</th>\n",
       "      <th>weekday</th>\n",
       "      <th>hour</th>\n",
       "    </tr>\n",
       "  </thead>\n",
       "  <tbody>\n",
       "    <tr>\n",
       "      <th>2</th>\n",
       "      <td>77404236</td>\n",
       "      <td>393135256</td>\n",
       "      <td>1</td>\n",
       "      <td>NaN</td>\n",
       "      <td>11623</td>\n",
       "      <td>2014-12-06 23:00:00</td>\n",
       "      <td>2014-12-06</td>\n",
       "      <td>5.0</td>\n",
       "      <td>23.0</td>\n",
       "    </tr>\n",
       "    <tr>\n",
       "      <th>3</th>\n",
       "      <td>77404236</td>\n",
       "      <td>277463747</td>\n",
       "      <td>1</td>\n",
       "      <td>NaN</td>\n",
       "      <td>451</td>\n",
       "      <td>2014-12-17 20:00:00</td>\n",
       "      <td>2014-12-17</td>\n",
       "      <td>2.0</td>\n",
       "      <td>20.0</td>\n",
       "    </tr>\n",
       "    <tr>\n",
       "      <th>4</th>\n",
       "      <td>77404236</td>\n",
       "      <td>38563179</td>\n",
       "      <td>1</td>\n",
       "      <td>NaN</td>\n",
       "      <td>8432</td>\n",
       "      <td>2014-12-17 17:00:00</td>\n",
       "      <td>2014-12-17</td>\n",
       "      <td>2.0</td>\n",
       "      <td>17.0</td>\n",
       "    </tr>\n",
       "    <tr>\n",
       "      <th>5</th>\n",
       "      <td>77404236</td>\n",
       "      <td>135800317</td>\n",
       "      <td>1</td>\n",
       "      <td>NaN</td>\n",
       "      <td>4676</td>\n",
       "      <td>2014-12-17 20:00:00</td>\n",
       "      <td>2014-12-17</td>\n",
       "      <td>2.0</td>\n",
       "      <td>20.0</td>\n",
       "    </tr>\n",
       "    <tr>\n",
       "      <th>6</th>\n",
       "      <td>77404236</td>\n",
       "      <td>351904813</td>\n",
       "      <td>1</td>\n",
       "      <td>NaN</td>\n",
       "      <td>3424</td>\n",
       "      <td>2014-11-25 20:00:00</td>\n",
       "      <td>2014-11-25</td>\n",
       "      <td>1.0</td>\n",
       "      <td>20.0</td>\n",
       "    </tr>\n",
       "    <tr>\n",
       "      <th>...</th>\n",
       "      <td>...</td>\n",
       "      <td>...</td>\n",
       "      <td>...</td>\n",
       "      <td>...</td>\n",
       "      <td>...</td>\n",
       "      <td>...</td>\n",
       "      <td>...</td>\n",
       "      <td>...</td>\n",
       "      <td>...</td>\n",
       "    </tr>\n",
       "    <tr>\n",
       "      <th>5027032</th>\n",
       "      <td>52673428</td>\n",
       "      <td>392968719</td>\n",
       "      <td>1</td>\n",
       "      <td>9qv9lbg</td>\n",
       "      <td>1121</td>\n",
       "      <td>2014-12-17 23:00:00</td>\n",
       "      <td>2014-12-17</td>\n",
       "      <td>2.0</td>\n",
       "      <td>23.0</td>\n",
       "    </tr>\n",
       "    <tr>\n",
       "      <th>5027033</th>\n",
       "      <td>52673428</td>\n",
       "      <td>269280095</td>\n",
       "      <td>1</td>\n",
       "      <td>NaN</td>\n",
       "      <td>3660</td>\n",
       "      <td>2014-12-12 00:00:00</td>\n",
       "      <td>2014-12-12</td>\n",
       "      <td>4.0</td>\n",
       "      <td>0.0</td>\n",
       "    </tr>\n",
       "    <tr>\n",
       "      <th>5027034</th>\n",
       "      <td>52673428</td>\n",
       "      <td>32768298</td>\n",
       "      <td>1</td>\n",
       "      <td>NaN</td>\n",
       "      <td>11552</td>\n",
       "      <td>2014-12-12 11:00:00</td>\n",
       "      <td>2014-12-12</td>\n",
       "      <td>4.0</td>\n",
       "      <td>11.0</td>\n",
       "    </tr>\n",
       "    <tr>\n",
       "      <th>5027036</th>\n",
       "      <td>52673428</td>\n",
       "      <td>9649546</td>\n",
       "      <td>1</td>\n",
       "      <td>9qv9lb3</td>\n",
       "      <td>2513</td>\n",
       "      <td>2014-12-04 23:00:00</td>\n",
       "      <td>2014-12-04</td>\n",
       "      <td>3.0</td>\n",
       "      <td>23.0</td>\n",
       "    </tr>\n",
       "    <tr>\n",
       "      <th>5027037</th>\n",
       "      <td>52673428</td>\n",
       "      <td>113748480</td>\n",
       "      <td>1</td>\n",
       "      <td>9qv9lg2</td>\n",
       "      <td>11652</td>\n",
       "      <td>NaT</td>\n",
       "      <td>NaT</td>\n",
       "      <td>NaN</td>\n",
       "      <td>NaN</td>\n",
       "    </tr>\n",
       "  </tbody>\n",
       "</table>\n",
       "<p>8965161 rows × 9 columns</p>\n",
       "</div>"
      ],
      "text/plain": [
       "          user_id    item_id behavior_type user_geohash item_category  \\\n",
       "2        77404236  393135256             1          NaN         11623   \n",
       "3        77404236  277463747             1          NaN           451   \n",
       "4        77404236   38563179             1          NaN          8432   \n",
       "5        77404236  135800317             1          NaN          4676   \n",
       "6        77404236  351904813             1          NaN          3424   \n",
       "...           ...        ...           ...          ...           ...   \n",
       "5027032  52673428  392968719             1      9qv9lbg          1121   \n",
       "5027033  52673428  269280095             1          NaN          3660   \n",
       "5027034  52673428   32768298             1          NaN         11552   \n",
       "5027036  52673428    9649546             1      9qv9lb3          2513   \n",
       "5027037  52673428  113748480             1      9qv9lg2         11652   \n",
       "\n",
       "                       time        date  weekday  hour  \n",
       "2       2014-12-06 23:00:00  2014-12-06      5.0  23.0  \n",
       "3       2014-12-17 20:00:00  2014-12-17      2.0  20.0  \n",
       "4       2014-12-17 17:00:00  2014-12-17      2.0  17.0  \n",
       "5       2014-12-17 20:00:00  2014-12-17      2.0  20.0  \n",
       "6       2014-11-25 20:00:00  2014-11-25      1.0  20.0  \n",
       "...                     ...         ...      ...   ...  \n",
       "5027032 2014-12-17 23:00:00  2014-12-17      2.0  23.0  \n",
       "5027033 2014-12-12 00:00:00  2014-12-12      4.0   0.0  \n",
       "5027034 2014-12-12 11:00:00  2014-12-12      4.0  11.0  \n",
       "5027036 2014-12-04 23:00:00  2014-12-04      3.0  23.0  \n",
       "5027037                 NaT         NaT      NaN   NaN  \n",
       "\n",
       "[8965161 rows x 9 columns]"
      ]
     },
     "execution_count": 107,
     "metadata": {},
     "output_type": "execute_result"
    }
   ],
   "source": [
    "dfu[dfu[\"behavior_type\"]==1]"
   ]
  },
  {
   "cell_type": "markdown",
   "metadata": {},
   "source": [
    "#### 统计用户的各行为类型数量"
   ]
  },
  {
   "cell_type": "code",
   "execution_count": 3,
   "metadata": {
    "scrolled": true
   },
   "outputs": [
    {
     "data": {
      "text/html": [
       "<div>\n",
       "<style scoped>\n",
       "    .dataframe tbody tr th:only-of-type {\n",
       "        vertical-align: middle;\n",
       "    }\n",
       "\n",
       "    .dataframe tbody tr th {\n",
       "        vertical-align: top;\n",
       "    }\n",
       "\n",
       "    .dataframe thead th {\n",
       "        text-align: right;\n",
       "    }\n",
       "</style>\n",
       "<table border=\"1\" class=\"dataframe\">\n",
       "  <thead>\n",
       "    <tr style=\"text-align: right;\">\n",
       "      <th></th>\n",
       "      <th>user_id</th>\n",
       "      <th>item_id</th>\n",
       "      <th>behavior_type</th>\n",
       "      <th>user_geohash</th>\n",
       "      <th>item_category</th>\n",
       "      <th>time</th>\n",
       "      <th>b</th>\n",
       "    </tr>\n",
       "  </thead>\n",
       "  <tbody>\n",
       "    <tr>\n",
       "      <th>0</th>\n",
       "      <td>77404236</td>\n",
       "      <td>306224045</td>\n",
       "      <td>1</td>\n",
       "      <td>Unnamed: 3</td>\n",
       "      <td>9023</td>\n",
       "      <td>2014-11-24 19</td>\n",
       "      <td>1</td>\n",
       "    </tr>\n",
       "    <tr>\n",
       "      <th>1</th>\n",
       "      <td>77404236</td>\n",
       "      <td>321344925</td>\n",
       "      <td>4</td>\n",
       "      <td>NaN</td>\n",
       "      <td>3424</td>\n",
       "      <td>2014-11-25 20</td>\n",
       "      <td>1</td>\n",
       "    </tr>\n",
       "    <tr>\n",
       "      <th>2</th>\n",
       "      <td>77404236</td>\n",
       "      <td>393135256</td>\n",
       "      <td>1</td>\n",
       "      <td>NaN</td>\n",
       "      <td>11623</td>\n",
       "      <td>2014-12-06 23</td>\n",
       "      <td>158</td>\n",
       "    </tr>\n",
       "    <tr>\n",
       "      <th>3</th>\n",
       "      <td>77404236</td>\n",
       "      <td>277463747</td>\n",
       "      <td>1</td>\n",
       "      <td>NaN</td>\n",
       "      <td>451</td>\n",
       "      <td>2014-12-17 20</td>\n",
       "      <td>158</td>\n",
       "    </tr>\n",
       "    <tr>\n",
       "      <th>4</th>\n",
       "      <td>77404236</td>\n",
       "      <td>38563179</td>\n",
       "      <td>1</td>\n",
       "      <td>NaN</td>\n",
       "      <td>8432</td>\n",
       "      <td>2014-12-17 17</td>\n",
       "      <td>158</td>\n",
       "    </tr>\n",
       "    <tr>\n",
       "      <th>...</th>\n",
       "      <td>...</td>\n",
       "      <td>...</td>\n",
       "      <td>...</td>\n",
       "      <td>...</td>\n",
       "      <td>...</td>\n",
       "      <td>...</td>\n",
       "      <td>...</td>\n",
       "    </tr>\n",
       "    <tr>\n",
       "      <th>5027033</th>\n",
       "      <td>52673428</td>\n",
       "      <td>269280095</td>\n",
       "      <td>1</td>\n",
       "      <td>NaN</td>\n",
       "      <td>3660</td>\n",
       "      <td>2014-12-12 00</td>\n",
       "      <td>148</td>\n",
       "    </tr>\n",
       "    <tr>\n",
       "      <th>5027034</th>\n",
       "      <td>52673428</td>\n",
       "      <td>32768298</td>\n",
       "      <td>1</td>\n",
       "      <td>NaN</td>\n",
       "      <td>11552</td>\n",
       "      <td>2014-12-12 11</td>\n",
       "      <td>148</td>\n",
       "    </tr>\n",
       "    <tr>\n",
       "      <th>5027035</th>\n",
       "      <td>52673428</td>\n",
       "      <td>83480236</td>\n",
       "      <td>4</td>\n",
       "      <td>9qv9om9</td>\n",
       "      <td>1450</td>\n",
       "      <td>2014-11-21 21</td>\n",
       "      <td>1</td>\n",
       "    </tr>\n",
       "    <tr>\n",
       "      <th>5027036</th>\n",
       "      <td>52673428</td>\n",
       "      <td>9649546</td>\n",
       "      <td>1</td>\n",
       "      <td>9qv9lb3</td>\n",
       "      <td>2513</td>\n",
       "      <td>2014-12-04 23</td>\n",
       "      <td>148</td>\n",
       "    </tr>\n",
       "    <tr>\n",
       "      <th>5027037</th>\n",
       "      <td>52673428</td>\n",
       "      <td>113748480</td>\n",
       "      <td>1</td>\n",
       "      <td>9qv9lg2</td>\n",
       "      <td>11652</td>\n",
       "      <td>2014-</td>\n",
       "      <td>148</td>\n",
       "    </tr>\n",
       "  </tbody>\n",
       "</table>\n",
       "<p>9509274 rows × 7 columns</p>\n",
       "</div>"
      ],
      "text/plain": [
       "          user_id    item_id behavior_type user_geohash item_category  \\\n",
       "0        77404236  306224045             1   Unnamed: 3          9023   \n",
       "1        77404236  321344925             4          NaN          3424   \n",
       "2        77404236  393135256             1          NaN         11623   \n",
       "3        77404236  277463747             1          NaN           451   \n",
       "4        77404236   38563179             1          NaN          8432   \n",
       "...           ...        ...           ...          ...           ...   \n",
       "5027033  52673428  269280095             1          NaN          3660   \n",
       "5027034  52673428   32768298             1          NaN         11552   \n",
       "5027035  52673428   83480236             4      9qv9om9          1450   \n",
       "5027036  52673428    9649546             1      9qv9lb3          2513   \n",
       "5027037  52673428  113748480             1      9qv9lg2         11652   \n",
       "\n",
       "                  time    b  \n",
       "0        2014-11-24 19    1  \n",
       "1        2014-11-25 20    1  \n",
       "2        2014-12-06 23  158  \n",
       "3        2014-12-17 20  158  \n",
       "4        2014-12-17 17  158  \n",
       "...                ...  ...  \n",
       "5027033  2014-12-12 00  148  \n",
       "5027034  2014-12-12 11  148  \n",
       "5027035  2014-11-21 21    1  \n",
       "5027036  2014-12-04 23  148  \n",
       "5027037          2014-  148  \n",
       "\n",
       "[9509274 rows x 7 columns]"
      ]
     },
     "execution_count": 3,
     "metadata": {},
     "output_type": "execute_result"
    }
   ],
   "source": [
    "b = dfu.groupby(\"user_id\")['behavior_type'].value_counts().unstack(fill_value=0)\n",
    "dfu['b'] = dfu.apply(lambda row:b.loc[row['user_id']][row['behavior_type']],axis = 1)\n",
    "dfu"
   ]
  },
  {
   "cell_type": "code",
   "execution_count": 5,
   "metadata": {},
   "outputs": [],
   "source": [
    "grouped = dfu.groupby(['user_id', 'behavior_type']).size().unstack()\n"
   ]
  },
  {
   "cell_type": "code",
   "execution_count": 14,
   "metadata": {},
   "outputs": [],
   "source": [
    "filtered = grouped[(grouped[1]>=2000) & (grouped[4]<=3)]\n"
   ]
  },
  {
   "cell_type": "code",
   "execution_count": 15,
   "metadata": {},
   "outputs": [
    {
     "name": "stdout",
     "output_type": "stream",
     "text": [
      "[7777596, 7918804, 8365383, 8376406, 15221054, 18318131, 19495371, 21850027, 22990112, 23986022, 25843529, 35570616, 64664063, 68049569, 68441681, 68532413, 71816486, 73342548, 74001355, 75153286, 75991984, 77214062, 78877340, 79932737, 80599889, 81810767, 82862011, 83580816, 83717274, 84406602, 84407054, 84963162, 88224709, 88910442, 89578683, 90189143, 90532818, 91477497, 96499150, 100388672, 100587898, 101698285, 101918696, 103124914, 133568246, 134539053, 136372731, 136942161, 138512524, 138915115, 139660465, 140740616, 142343953]\n"
     ]
    }
   ],
   "source": [
    "print(filtered.index.tolist())"
   ]
  },
  {
   "cell_type": "code",
   "execution_count": null,
   "metadata": {},
   "outputs": [],
   "source": []
  }
 ],
 "metadata": {
  "kernelspec": {
   "display_name": "Python 3 (ipykernel)",
   "language": "python",
   "name": "python3"
  },
  "language_info": {
   "codemirror_mode": {
    "name": "ipython",
    "version": 3
   },
   "file_extension": ".py",
   "mimetype": "text/x-python",
   "name": "python",
   "nbconvert_exporter": "python",
   "pygments_lexer": "ipython3",
   "version": "3.9.12"
  },
  "toc": {
   "base_numbering": 1,
   "nav_menu": {},
   "number_sections": false,
   "sideBar": true,
   "skip_h1_title": false,
   "title_cell": "Table of Contents",
   "title_sidebar": "Contents",
   "toc_cell": false,
   "toc_position": {
    "height": "calc(100% - 180px)",
    "left": "10px",
    "top": "150px",
    "width": "288px"
   },
   "toc_section_display": true,
   "toc_window_display": false
  }
 },
 "nbformat": 4,
 "nbformat_minor": 2
}
